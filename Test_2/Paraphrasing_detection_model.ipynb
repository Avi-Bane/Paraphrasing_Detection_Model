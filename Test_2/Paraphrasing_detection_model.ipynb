{
 "cells": [
  {
   "cell_type": "markdown",
   "id": "c5762f68",
   "metadata": {},
   "source": [
    "# _Paraphrasing detection model_"
   ]
  },
  {
   "cell_type": "markdown",
   "id": "fb18de8b",
   "metadata": {},
   "source": [
    "\n",
    "Importing the needed libraries"
   ]
  },
  {
   "cell_type": "code",
   "execution_count": 1,
   "id": "d0343439",
   "metadata": {},
   "outputs": [],
   "source": [
    "import pandas as pd\n",
    "import numpy as np\n",
    "import nltk\n",
    "from nltk.tokenize import word_tokenize\n",
    "from nltk.corpus import stopwords\n",
    "from nltk.stem import WordNetLemmatizer\n",
    "from sklearn.feature_extraction.text import TfidfVectorizer\n",
    "from matplotlib import pyplot as plt\n"
   ]
  },
  {
   "cell_type": "markdown",
   "id": "3f2b55b1",
   "metadata": {},
   "source": [
    "\n",
    "\n",
    "Loading the require dataset\n",
    "\n"
   ]
  },
  {
   "cell_type": "code",
   "execution_count": 2,
   "id": "a259a183",
   "metadata": {},
   "outputs": [],
   "source": [
    "df = pd.read_csv(\"train.csv\")"
   ]
  },
  {
   "cell_type": "markdown",
   "id": "568cded5",
   "metadata": {},
   "source": [
    "Lets see how the first few cells looked like"
   ]
  },
  {
   "cell_type": "code",
   "execution_count": 3,
   "id": "a816b20d",
   "metadata": {},
   "outputs": [
    {
     "data": {
      "text/html": [
       "<div>\n",
       "<style scoped>\n",
       "    .dataframe tbody tr th:only-of-type {\n",
       "        vertical-align: middle;\n",
       "    }\n",
       "\n",
       "    .dataframe tbody tr th {\n",
       "        vertical-align: top;\n",
       "    }\n",
       "\n",
       "    .dataframe thead th {\n",
       "        text-align: right;\n",
       "    }\n",
       "</style>\n",
       "<table border=\"1\" class=\"dataframe\">\n",
       "  <thead>\n",
       "    <tr style=\"text-align: right;\">\n",
       "      <th></th>\n",
       "      <th>id</th>\n",
       "      <th>qid1</th>\n",
       "      <th>qid2</th>\n",
       "      <th>question1</th>\n",
       "      <th>question2</th>\n",
       "      <th>is_duplicate</th>\n",
       "    </tr>\n",
       "  </thead>\n",
       "  <tbody>\n",
       "    <tr>\n",
       "      <th>0</th>\n",
       "      <td>0</td>\n",
       "      <td>1</td>\n",
       "      <td>2</td>\n",
       "      <td>What is the step by step guide to invest in sh...</td>\n",
       "      <td>What is the step by step guide to invest in sh...</td>\n",
       "      <td>0</td>\n",
       "    </tr>\n",
       "    <tr>\n",
       "      <th>1</th>\n",
       "      <td>1</td>\n",
       "      <td>3</td>\n",
       "      <td>4</td>\n",
       "      <td>What is the story of Kohinoor (Koh-i-Noor) Dia...</td>\n",
       "      <td>What would happen if the Indian government sto...</td>\n",
       "      <td>0</td>\n",
       "    </tr>\n",
       "    <tr>\n",
       "      <th>2</th>\n",
       "      <td>2</td>\n",
       "      <td>5</td>\n",
       "      <td>6</td>\n",
       "      <td>How can I increase the speed of my internet co...</td>\n",
       "      <td>How can Internet speed be increased by hacking...</td>\n",
       "      <td>0</td>\n",
       "    </tr>\n",
       "    <tr>\n",
       "      <th>3</th>\n",
       "      <td>3</td>\n",
       "      <td>7</td>\n",
       "      <td>8</td>\n",
       "      <td>Why am I mentally very lonely? How can I solve...</td>\n",
       "      <td>Find the remainder when [math]23^{24}[/math] i...</td>\n",
       "      <td>0</td>\n",
       "    </tr>\n",
       "    <tr>\n",
       "      <th>4</th>\n",
       "      <td>4</td>\n",
       "      <td>9</td>\n",
       "      <td>10</td>\n",
       "      <td>Which one dissolve in water quikly sugar, salt...</td>\n",
       "      <td>Which fish would survive in salt water?</td>\n",
       "      <td>0</td>\n",
       "    </tr>\n",
       "  </tbody>\n",
       "</table>\n",
       "</div>"
      ],
      "text/plain": [
       "   id  qid1  qid2                                          question1  \\\n",
       "0   0     1     2  What is the step by step guide to invest in sh...   \n",
       "1   1     3     4  What is the story of Kohinoor (Koh-i-Noor) Dia...   \n",
       "2   2     5     6  How can I increase the speed of my internet co...   \n",
       "3   3     7     8  Why am I mentally very lonely? How can I solve...   \n",
       "4   4     9    10  Which one dissolve in water quikly sugar, salt...   \n",
       "\n",
       "                                           question2  is_duplicate  \n",
       "0  What is the step by step guide to invest in sh...             0  \n",
       "1  What would happen if the Indian government sto...             0  \n",
       "2  How can Internet speed be increased by hacking...             0  \n",
       "3  Find the remainder when [math]23^{24}[/math] i...             0  \n",
       "4            Which fish would survive in salt water?             0  "
      ]
     },
     "execution_count": 3,
     "metadata": {},
     "output_type": "execute_result"
    }
   ],
   "source": [
    "df.head()"
   ]
  },
  {
   "cell_type": "markdown",
   "id": "d5813e6e",
   "metadata": {},
   "source": [
    "### Preprocessing the dataset\n",
    "\n",
    "Here, we are using the quora question pairs dataset to train, test and validate our model.\n",
    "\n",
    "for that the first step is to preprocess the dataset to clean it, and make wothy to be used."
   ]
  },
  {
   "cell_type": "markdown",
   "id": "1b06ad6f",
   "metadata": {},
   "source": [
    "1. __Tokenization:__"
   ]
  },
  {
   "cell_type": "code",
   "execution_count": 4,
   "id": "0df69a13",
   "metadata": {},
   "outputs": [
    {
     "ename": "ValueError",
     "evalue": "No axis named <function tokenize_text at 0x000002A6E23D1C60> for object type DataFrame",
     "output_type": "error",
     "traceback": [
      "\u001b[1;31m---------------------------------------------------------------------------\u001b[0m",
      "\u001b[1;31mKeyError\u001b[0m                                  Traceback (most recent call last)",
      "\u001b[1;32mc:\\ProgramData\\anaconda3\\Lib\\site-packages\\pandas\\core\\generic.py\u001b[0m in \u001b[0;36m?\u001b[1;34m(cls, axis)\u001b[0m\n\u001b[0;32m    576\u001b[0m             \u001b[1;32mreturn\u001b[0m \u001b[0mcls\u001b[0m\u001b[1;33m.\u001b[0m\u001b[0m_AXIS_TO_AXIS_NUMBER\u001b[0m\u001b[1;33m[\u001b[0m\u001b[0maxis\u001b[0m\u001b[1;33m]\u001b[0m\u001b[1;33m\u001b[0m\u001b[1;33m\u001b[0m\u001b[0m\n\u001b[0;32m    577\u001b[0m         \u001b[1;32mexcept\u001b[0m \u001b[0mKeyError\u001b[0m\u001b[1;33m:\u001b[0m\u001b[1;33m\u001b[0m\u001b[1;33m\u001b[0m\u001b[0m\n\u001b[1;32m--> 578\u001b[1;33m             \u001b[1;32mraise\u001b[0m \u001b[0mValueError\u001b[0m\u001b[1;33m(\u001b[0m\u001b[1;33mf\"\u001b[0m\u001b[1;33mNo axis named \u001b[0m\u001b[1;33m{\u001b[0m\u001b[0maxis\u001b[0m\u001b[1;33m}\u001b[0m\u001b[1;33m for object type \u001b[0m\u001b[1;33m{\u001b[0m\u001b[0mcls\u001b[0m\u001b[1;33m.\u001b[0m\u001b[0m__name__\u001b[0m\u001b[1;33m}\u001b[0m\u001b[1;33m\"\u001b[0m\u001b[1;33m)\u001b[0m\u001b[1;33m\u001b[0m\u001b[1;33m\u001b[0m\u001b[0m\n\u001b[0m",
      "\u001b[1;31mKeyError\u001b[0m: <function tokenize_text at 0x000002A6E23D1C60>",
      "\nDuring handling of the above exception, another exception occurred:\n",
      "\u001b[1;31mValueError\u001b[0m                                Traceback (most recent call last)",
      "\u001b[1;32m~\\AppData\\Local\\Temp\\ipykernel_16788\\1392843379.py\u001b[0m in \u001b[0;36m?\u001b[1;34m()\u001b[0m\n\u001b[0;32m      7\u001b[0m     \u001b[0mtokens\u001b[0m \u001b[1;33m=\u001b[0m \u001b[0mword_tokenize\u001b[0m\u001b[1;33m(\u001b[0m\u001b[0mtext\u001b[0m\u001b[1;33m)\u001b[0m\u001b[1;33m\u001b[0m\u001b[1;33m\u001b[0m\u001b[0m\n\u001b[0;32m      8\u001b[0m     \u001b[0mtokens\u001b[0m \u001b[1;33m=\u001b[0m \u001b[1;33m[\u001b[0m\u001b[0mt\u001b[0m \u001b[1;32mfor\u001b[0m \u001b[0mt\u001b[0m \u001b[1;32min\u001b[0m \u001b[0mtokens\u001b[0m \u001b[1;32mif\u001b[0m \u001b[0mt\u001b[0m\u001b[1;33m.\u001b[0m\u001b[0misalpha\u001b[0m\u001b[1;33m(\u001b[0m\u001b[1;33m)\u001b[0m\u001b[1;33m]\u001b[0m  \u001b[1;31m# remove punctuation\u001b[0m\u001b[1;33m\u001b[0m\u001b[1;33m\u001b[0m\u001b[0m\n\u001b[0;32m      9\u001b[0m     \u001b[1;32mreturn\u001b[0m \u001b[0mtokens\u001b[0m\u001b[1;33m\u001b[0m\u001b[1;33m\u001b[0m\u001b[0m\n\u001b[0;32m     10\u001b[0m \u001b[1;33m\u001b[0m\u001b[0m\n\u001b[1;32m---> 11\u001b[1;33m \u001b[0mdf\u001b[0m\u001b[1;33m[\u001b[0m\u001b[1;34m'question1_tokens'\u001b[0m\u001b[1;33m]\u001b[0m \u001b[1;33m=\u001b[0m \u001b[0mdf\u001b[0m\u001b[1;33m.\u001b[0m\u001b[0mapply\u001b[0m\u001b[1;33m(\u001b[0m\u001b[1;33m{\u001b[0m\u001b[1;34m'question1'\u001b[0m\u001b[1;33m}\u001b[0m\u001b[1;33m,\u001b[0m\u001b[0mtokenize_text\u001b[0m\u001b[1;33m)\u001b[0m\u001b[1;33m\u001b[0m\u001b[1;33m\u001b[0m\u001b[0m\n\u001b[0m\u001b[0;32m     12\u001b[0m \u001b[1;31m#df['question1_tokens'] = df['question1'].apply(tokenize_text)\u001b[0m\u001b[1;33m\u001b[0m\u001b[1;33m\u001b[0m\u001b[0m\n\u001b[0;32m     13\u001b[0m \u001b[0mdf\u001b[0m\u001b[1;33m[\u001b[0m\u001b[1;34m'question2_tokens'\u001b[0m\u001b[1;33m]\u001b[0m \u001b[1;33m=\u001b[0m \u001b[0mdf\u001b[0m\u001b[1;33m.\u001b[0m\u001b[0mapply\u001b[0m\u001b[1;33m(\u001b[0m\u001b[1;33m{\u001b[0m\u001b[1;34m'question2'\u001b[0m\u001b[1;33m}\u001b[0m\u001b[1;33m,\u001b[0m\u001b[0mtokenize_text\u001b[0m\u001b[1;33m)\u001b[0m\u001b[1;33m\u001b[0m\u001b[1;33m\u001b[0m\u001b[0m\n\u001b[0;32m     14\u001b[0m \u001b[1;31m#df['question2_tokens'] = df['question2'].apply(tokenize_text)\u001b[0m\u001b[1;33m\u001b[0m\u001b[1;33m\u001b[0m\u001b[0m\n",
      "\u001b[1;32mc:\\ProgramData\\anaconda3\\Lib\\site-packages\\pandas\\core\\frame.py\u001b[0m in \u001b[0;36m?\u001b[1;34m(self, func, axis, raw, result_type, args, by_row, engine, engine_kwargs, **kwargs)\u001b[0m\n\u001b[0;32m  10358\u001b[0m         \u001b[1;36m2\u001b[0m  \u001b[1;36m1\u001b[0m  \u001b[1;36m2\u001b[0m\u001b[1;33m\u001b[0m\u001b[1;33m\u001b[0m\u001b[0m\n\u001b[0;32m  10359\u001b[0m         \"\"\"\n\u001b[0;32m  10360\u001b[0m         \u001b[1;32mfrom\u001b[0m \u001b[0mpandas\u001b[0m\u001b[1;33m.\u001b[0m\u001b[0mcore\u001b[0m\u001b[1;33m.\u001b[0m\u001b[0mapply\u001b[0m \u001b[1;32mimport\u001b[0m \u001b[0mframe_apply\u001b[0m\u001b[1;33m\u001b[0m\u001b[1;33m\u001b[0m\u001b[0m\n\u001b[0;32m  10361\u001b[0m \u001b[1;33m\u001b[0m\u001b[0m\n\u001b[1;32m> 10362\u001b[1;33m         op = frame_apply(\n\u001b[0m\u001b[0;32m  10363\u001b[0m             \u001b[0mself\u001b[0m\u001b[1;33m,\u001b[0m\u001b[1;33m\u001b[0m\u001b[1;33m\u001b[0m\u001b[0m\n\u001b[0;32m  10364\u001b[0m             \u001b[0mfunc\u001b[0m\u001b[1;33m=\u001b[0m\u001b[0mfunc\u001b[0m\u001b[1;33m,\u001b[0m\u001b[1;33m\u001b[0m\u001b[1;33m\u001b[0m\u001b[0m\n\u001b[0;32m  10365\u001b[0m             \u001b[0maxis\u001b[0m\u001b[1;33m=\u001b[0m\u001b[0maxis\u001b[0m\u001b[1;33m,\u001b[0m\u001b[1;33m\u001b[0m\u001b[1;33m\u001b[0m\u001b[0m\n",
      "\u001b[1;32mc:\\ProgramData\\anaconda3\\Lib\\site-packages\\pandas\\core\\apply.py\u001b[0m in \u001b[0;36m?\u001b[1;34m(obj, func, axis, raw, result_type, by_row, engine, engine_kwargs, args, kwargs)\u001b[0m\n\u001b[0;32m     91\u001b[0m     \u001b[0margs\u001b[0m\u001b[1;33m=\u001b[0m\u001b[1;32mNone\u001b[0m\u001b[1;33m,\u001b[0m\u001b[1;33m\u001b[0m\u001b[1;33m\u001b[0m\u001b[0m\n\u001b[0;32m     92\u001b[0m     \u001b[0mkwargs\u001b[0m\u001b[1;33m=\u001b[0m\u001b[1;32mNone\u001b[0m\u001b[1;33m,\u001b[0m\u001b[1;33m\u001b[0m\u001b[1;33m\u001b[0m\u001b[0m\n\u001b[0;32m     93\u001b[0m \u001b[1;33m)\u001b[0m \u001b[1;33m->\u001b[0m \u001b[0mFrameApply\u001b[0m\u001b[1;33m:\u001b[0m\u001b[1;33m\u001b[0m\u001b[1;33m\u001b[0m\u001b[0m\n\u001b[0;32m     94\u001b[0m     \u001b[1;34m\"\"\"construct and return a row or column based frame apply object\"\"\"\u001b[0m\u001b[1;33m\u001b[0m\u001b[1;33m\u001b[0m\u001b[0m\n\u001b[1;32m---> 95\u001b[1;33m     \u001b[0maxis\u001b[0m \u001b[1;33m=\u001b[0m \u001b[0mobj\u001b[0m\u001b[1;33m.\u001b[0m\u001b[0m_get_axis_number\u001b[0m\u001b[1;33m(\u001b[0m\u001b[0maxis\u001b[0m\u001b[1;33m)\u001b[0m\u001b[1;33m\u001b[0m\u001b[1;33m\u001b[0m\u001b[0m\n\u001b[0m\u001b[0;32m     96\u001b[0m     \u001b[0mklass\u001b[0m\u001b[1;33m:\u001b[0m \u001b[0mtype\u001b[0m\u001b[1;33m[\u001b[0m\u001b[0mFrameApply\u001b[0m\u001b[1;33m]\u001b[0m\u001b[1;33m\u001b[0m\u001b[1;33m\u001b[0m\u001b[0m\n\u001b[0;32m     97\u001b[0m     \u001b[1;32mif\u001b[0m \u001b[0maxis\u001b[0m \u001b[1;33m==\u001b[0m \u001b[1;36m0\u001b[0m\u001b[1;33m:\u001b[0m\u001b[1;33m\u001b[0m\u001b[1;33m\u001b[0m\u001b[0m\n\u001b[0;32m     98\u001b[0m         \u001b[0mklass\u001b[0m \u001b[1;33m=\u001b[0m \u001b[0mFrameRowApply\u001b[0m\u001b[1;33m\u001b[0m\u001b[1;33m\u001b[0m\u001b[0m\n",
      "\u001b[1;32mc:\\ProgramData\\anaconda3\\Lib\\site-packages\\pandas\\core\\generic.py\u001b[0m in \u001b[0;36m?\u001b[1;34m(cls, axis)\u001b[0m\n\u001b[0;32m    574\u001b[0m     \u001b[1;32mdef\u001b[0m \u001b[0m_get_axis_number\u001b[0m\u001b[1;33m(\u001b[0m\u001b[0mcls\u001b[0m\u001b[1;33m,\u001b[0m \u001b[0maxis\u001b[0m\u001b[1;33m:\u001b[0m \u001b[0mAxis\u001b[0m\u001b[1;33m)\u001b[0m \u001b[1;33m->\u001b[0m \u001b[0mAxisInt\u001b[0m\u001b[1;33m:\u001b[0m\u001b[1;33m\u001b[0m\u001b[1;33m\u001b[0m\u001b[0m\n\u001b[0;32m    575\u001b[0m         \u001b[1;32mtry\u001b[0m\u001b[1;33m:\u001b[0m\u001b[1;33m\u001b[0m\u001b[1;33m\u001b[0m\u001b[0m\n\u001b[0;32m    576\u001b[0m             \u001b[1;32mreturn\u001b[0m \u001b[0mcls\u001b[0m\u001b[1;33m.\u001b[0m\u001b[0m_AXIS_TO_AXIS_NUMBER\u001b[0m\u001b[1;33m[\u001b[0m\u001b[0maxis\u001b[0m\u001b[1;33m]\u001b[0m\u001b[1;33m\u001b[0m\u001b[1;33m\u001b[0m\u001b[0m\n\u001b[0;32m    577\u001b[0m         \u001b[1;32mexcept\u001b[0m \u001b[0mKeyError\u001b[0m\u001b[1;33m:\u001b[0m\u001b[1;33m\u001b[0m\u001b[1;33m\u001b[0m\u001b[0m\n\u001b[1;32m--> 578\u001b[1;33m             \u001b[1;32mraise\u001b[0m \u001b[0mValueError\u001b[0m\u001b[1;33m(\u001b[0m\u001b[1;33mf\"\u001b[0m\u001b[1;33mNo axis named \u001b[0m\u001b[1;33m{\u001b[0m\u001b[0maxis\u001b[0m\u001b[1;33m}\u001b[0m\u001b[1;33m for object type \u001b[0m\u001b[1;33m{\u001b[0m\u001b[0mcls\u001b[0m\u001b[1;33m.\u001b[0m\u001b[0m__name__\u001b[0m\u001b[1;33m}\u001b[0m\u001b[1;33m\"\u001b[0m\u001b[1;33m)\u001b[0m\u001b[1;33m\u001b[0m\u001b[1;33m\u001b[0m\u001b[0m\n\u001b[0m",
      "\u001b[1;31mValueError\u001b[0m: No axis named <function tokenize_text at 0x000002A6E23D1C60> for object type DataFrame"
     ]
    }
   ],
   "source": [
    "df.fillna({'question1':''},inplace=True)\n",
    "#df['question1'].fillna('', inplace=True)  # replace NaN with an empty string\n",
    "df.fillna({'question1':''},inplace=True)\n",
    "#df['question2'].fillna('', inplace=True)\n",
    "\n",
    "def tokenize_text(text):\n",
    "    tokens = word_tokenize(text)\n",
    "    tokens = [t for t in tokens if t.isalpha()]  # remove punctuation\n",
    "    return tokens\n",
    "\n",
    "df['question1_tokens'] = df.apply({'question1'},tokenize_text)\n",
    "#df['question1_tokens'] = df['question1'].apply(tokenize_text)\n",
    "df['question2_tokens'] = df.apply({'question2'},tokenize_text)\n",
    "#df['question2_tokens'] = df['question2'].apply(tokenize_text)\n",
    "\n",
    "print(df['question1_tokens'])\n",
    "print(df['question2_tokens'])"
   ]
  },
  {
   "cell_type": "markdown",
   "id": "f33fbc42",
   "metadata": {},
   "source": [
    "2. __Remove Stopwords__"
   ]
  },
  {
   "cell_type": "code",
   "execution_count": 9,
   "id": "78091759",
   "metadata": {},
   "outputs": [
    {
     "name": "stdout",
     "output_type": "stream",
     "text": [
      "0         [What, step, step, guide, invest, share, marke...\n",
      "1                          [What, story, Kohinoor, Diamond]\n",
      "2         [How, I, increase, speed, internet, connection...\n",
      "3                 [Why, I, mentally, lonely, How, I, solve]\n",
      "4         [Which, one, dissolve, water, quikly, sugar, s...\n",
      "                                ...                        \n",
      "404285    [How, many, keywords, Racket, programming, lan...\n",
      "404286                           [Do, believe, life, death]\n",
      "404287                                    [What, one, coin]\n",
      "404288    [What, approx, annual, cost, living, studying,...\n",
      "404289                            [What, like, sex, cousin]\n",
      "Name: question1_tokens, Length: 404290, dtype: object\n",
      "0          [What, step, step, guide, invest, share, market]\n",
      "1         [What, would, happen, Indian, government, stol...\n",
      "2           [How, Internet, speed, increased, hacking, DNS]\n",
      "3                          [Find, remainder, math, divided]\n",
      "4                [Which, fish, would, survive, salt, water]\n",
      "                                ...                        \n",
      "404285    [How, many, keywords, PERL, Programming, Langu...\n",
      "404286                              [Is, true, life, death]\n",
      "404287                                         [What, coin]\n",
      "404288    [I, little, hairfall, problem, I, want, use, h...\n",
      "404289                            [What, like, sex, cousin]\n",
      "Name: question2_tokens, Length: 404290, dtype: object\n"
     ]
    }
   ],
   "source": [
    "stop_words = set(stopwords.words('english'))\n",
    "\n",
    "def remove_stopwords(tokens):\n",
    "    tokens = [t for t in tokens if t not in stop_words]\n",
    "    return tokens\n",
    "\n",
    "df['question1_tokens'] = df['question1_tokens'].apply(remove_stopwords)\n",
    "df['question2_tokens'] = df['question2_tokens'].apply(remove_stopwords)\n",
    "\n",
    "print(df['question1_tokens'])\n",
    "print(df['question2_tokens'])"
   ]
  },
  {
   "cell_type": "markdown",
   "id": "f2bbb323",
   "metadata": {},
   "source": [
    "5. __Lemmatize the tokens__"
   ]
  },
  {
   "cell_type": "code",
   "execution_count": 10,
   "id": "dab0ff1b",
   "metadata": {},
   "outputs": [
    {
     "name": "stdout",
     "output_type": "stream",
     "text": [
      "0         [What, step, step, guide, invest, share, marke...\n",
      "1                          [What, story, Kohinoor, Diamond]\n",
      "2         [How, I, increase, speed, internet, connection...\n",
      "3                 [Why, I, mentally, lonely, How, I, solve]\n",
      "4         [Which, one, dissolve, water, quikly, sugar, s...\n",
      "                                ...                        \n",
      "404285    [How, many, keywords, Racket, programming, lan...\n",
      "404286                           [Do, believe, life, death]\n",
      "404287                                    [What, one, coin]\n",
      "404288    [What, approx, annual, cost, living, studying,...\n",
      "404289                            [What, like, sex, cousin]\n",
      "Name: question1_tokens, Length: 404290, dtype: object\n",
      "0          [What, step, step, guide, invest, share, market]\n",
      "1         [What, would, happen, Indian, government, stol...\n",
      "2           [How, Internet, speed, increased, hacking, DNS]\n",
      "3                          [Find, remainder, math, divided]\n",
      "4                [Which, fish, would, survive, salt, water]\n",
      "                                ...                        \n",
      "404285    [How, many, keywords, PERL, Programming, Langu...\n",
      "404286                              [Is, true, life, death]\n",
      "404287                                         [What, coin]\n",
      "404288    [I, little, hairfall, problem, I, want, use, h...\n",
      "404289                            [What, like, sex, cousin]\n",
      "Name: question2_tokens, Length: 404290, dtype: object\n"
     ]
    }
   ],
   "source": [
    "lemmatizer = WordNetLemmatizer()\n",
    "\n",
    "def lemmatize_tokens(tokens):\n",
    "    tokens = [lemmatizer.lemmatize(t) for t in tokens]\n",
    "    return tokens\n",
    "\n",
    "df['question1_tokens'] = df['question1_tokens'].apply(lemmatize_tokens)\n",
    "df['question2_tokens'] = df['question2_tokens'].apply(lemmatize_tokens)\n",
    "\n",
    "print(df['question1_tokens'])\n",
    "print(df['question2_tokens'])"
   ]
  },
  {
   "cell_type": "markdown",
   "id": "d215b769",
   "metadata": {},
   "source": [
    "6. __Convert Tokens Back to Text__"
   ]
  },
  {
   "cell_type": "code",
   "execution_count": 12,
   "id": "ec42df71",
   "metadata": {},
   "outputs": [
    {
     "name": "stdout",
     "output_type": "stream",
     "text": [
      "0            What step step guide invest share market india\n",
      "1                               What story Kohinoor Diamond\n",
      "2         How I increase speed internet connection using...\n",
      "3                         Why I mentally lonely How I solve\n",
      "4         Which one dissolve water quikly sugar salt met...\n",
      "                                ...                        \n",
      "404285    How many keywords Racket programming language ...\n",
      "404286                                Do believe life death\n",
      "404287                                        What one coin\n",
      "404288    What approx annual cost living studying UIC Ch...\n",
      "404289                                 What like sex cousin\n",
      "Name: question1, Length: 404290, dtype: object\n",
      "0                  What step step guide invest share market\n",
      "1         What would happen Indian government stole Kohi...\n",
      "2                  How Internet speed increased hacking DNS\n",
      "3                               Find remainder math divided\n",
      "4                       Which fish would survive salt water\n",
      "                                ...                        \n",
      "404285    How many keywords PERL Programming Language la...\n",
      "404286                                   Is true life death\n",
      "404287                                            What coin\n",
      "404288    I little hairfall problem I want use hair styl...\n",
      "404289                                 What like sex cousin\n",
      "Name: question2, Length: 404290, dtype: object\n"
     ]
    }
   ],
   "source": [
    "def tokens_to_text(tokens):\n",
    "    text = ' '.join(tokens)\n",
    "    return text\n",
    "\n",
    "df['question1'] = df['question1_tokens'].apply(tokens_to_text)\n",
    "df['question2'] = df['question2_tokens'].apply(tokens_to_text)\n",
    "\n",
    "print(df['question1'])\n",
    "print(df['question2'])"
   ]
  },
  {
   "cell_type": "markdown",
   "id": "a60a193d",
   "metadata": {},
   "source": [
    " 7. __Vectorize the text data using TF-IDF__"
   ]
  },
  {
   "cell_type": "code",
   "execution_count": 13,
   "id": "50535a00",
   "metadata": {},
   "outputs": [],
   "source": [
    "vectorizer = TfidfVectorizer(max_features=5000)\n",
    "\n",
    "X = vectorizer.fit_transform(df['question1'] + ' ' + df['question2'])\n",
    "y = df['is_duplicate']"
   ]
  },
  {
   "cell_type": "code",
   "execution_count": 14,
   "id": "13f676aa",
   "metadata": {},
   "outputs": [
    {
     "data": {
      "text/plain": [
       "<404290x5000 sparse matrix of type '<class 'numpy.float64'>'\n",
       "\twith 3311415 stored elements in Compressed Sparse Row format>"
      ]
     },
     "execution_count": 14,
     "metadata": {},
     "output_type": "execute_result"
    }
   ],
   "source": [
    "X"
   ]
  },
  {
   "cell_type": "code",
   "execution_count": 15,
   "id": "12b930bc",
   "metadata": {},
   "outputs": [
    {
     "data": {
      "text/plain": [
       "0         0\n",
       "1         0\n",
       "2         0\n",
       "3         0\n",
       "4         0\n",
       "         ..\n",
       "404285    0\n",
       "404286    1\n",
       "404287    0\n",
       "404288    0\n",
       "404289    0\n",
       "Name: is_duplicate, Length: 404290, dtype: int64"
      ]
     },
     "execution_count": 15,
     "metadata": {},
     "output_type": "execute_result"
    }
   ],
   "source": [
    "y"
   ]
  },
  {
   "cell_type": "markdown",
   "id": "c4710e3f",
   "metadata": {},
   "source": [
    "### Splitting the data"
   ]
  },
  {
   "cell_type": "code",
   "execution_count": 16,
   "id": "0d590a0c",
   "metadata": {},
   "outputs": [],
   "source": [
    "from sklearn.model_selection import train_test_split\n",
    "\n",
    "# Split the data into training and testing sets\n",
    "X_train, X_test, y_train, y_test = train_test_split(X, y, test_size=0.2, random_state=42)\n",
    "\n",
    "# Split the training data into training and validation sets\n",
    "X_train, X_val, y_train, y_val = train_test_split(X_train, y_train, test_size=0.2, random_state=42)"
   ]
  },
  {
   "cell_type": "markdown",
   "id": "42d5be07",
   "metadata": {},
   "source": [
    "Convert data into array"
   ]
  },
  {
   "cell_type": "code",
   "execution_count": 17,
   "id": "e763111f",
   "metadata": {},
   "outputs": [],
   "source": [
    "X_train = X_train.toarray()\n",
    "X_val = X_val.toarray()\n",
    "X_test = X_test.toarray()"
   ]
  },
  {
   "cell_type": "code",
   "execution_count": 19,
   "id": "ae6aa554",
   "metadata": {},
   "outputs": [
    {
     "name": "stdout",
     "output_type": "stream",
     "text": [
      "[[0. 0. 0. ... 0. 0. 0.]\n",
      " [0. 0. 0. ... 0. 0. 0.]\n",
      " [0. 0. 0. ... 0. 0. 0.]\n",
      " ...\n",
      " [0. 0. 0. ... 0. 0. 0.]\n",
      " [0. 0. 0. ... 0. 0. 0.]\n",
      " [0. 0. 0. ... 0. 0. 0.]]\n",
      "[[0. 0. 0. ... 0. 0. 0.]\n",
      " [0. 0. 0. ... 0. 0. 0.]\n",
      " [0. 0. 0. ... 0. 0. 0.]\n",
      " ...\n",
      " [0. 0. 0. ... 0. 0. 0.]\n",
      " [0. 0. 0. ... 0. 0. 0.]\n",
      " [0. 0. 0. ... 0. 0. 0.]]\n",
      "[[0. 0. 0. ... 0. 0. 0.]\n",
      " [0. 0. 0. ... 0. 0. 0.]\n",
      " [0. 0. 0. ... 0. 0. 0.]\n",
      " ...\n",
      " [0. 0. 0. ... 0. 0. 0.]\n",
      " [0. 0. 0. ... 0. 0. 0.]\n",
      " [0. 0. 0. ... 0. 0. 0.]]\n"
     ]
    }
   ],
   "source": [
    "print(X_train)\n",
    "print(X_val)\n",
    "print(X_test)"
   ]
  },
  {
   "cell_type": "code",
   "execution_count": 21,
   "id": "6687cb0a",
   "metadata": {},
   "outputs": [
    {
     "name": "stdout",
     "output_type": "stream",
     "text": [
      "(258745, 5000) (258745,)\n"
     ]
    }
   ],
   "source": [
    "print(X_train.shape, y_train.shape)"
   ]
  },
  {
   "cell_type": "markdown",
   "id": "b75174f6",
   "metadata": {},
   "source": [
    "# Building the model"
   ]
  },
  {
   "cell_type": "markdown",
   "id": "b819341b",
   "metadata": {},
   "source": [
    "Build a Baseline Model\n",
    "\n",
    "1. Choose a model architecture: Select a suitable model architecture for paraphrase detection. \n",
    "    Thus we use Recurrent Neural Network (RNN)\n",
    "    \n",
    "2. Implement the model: Implement the chosen model architecture using a deep learning library like TensorFlow, Keras, or PyTorch.\n",
    "\n",
    "3. Train the model: Train the model on the training set, monitoring the validation set performance to avoid overfitting."
   ]
  },
  {
   "cell_type": "code",
   "execution_count": 23,
   "id": "2f10e699",
   "metadata": {},
   "outputs": [
    {
     "name": "stdout",
     "output_type": "stream",
     "text": [
      "Epoch 1/5\n",
      "\u001b[1m10108/10108\u001b[0m \u001b[32m━━━━━━━━━━━━━━━━━━━━\u001b[0m\u001b[37m\u001b[0m \u001b[1m1038s\u001b[0m 102ms/step - accuracy: 0.7239 - loss: 0.5509 - val_accuracy: 0.7506 - val_loss: 0.5101\n",
      "Epoch 2/5\n",
      "\u001b[1m10108/10108\u001b[0m \u001b[32m━━━━━━━━━━━━━━━━━━━━\u001b[0m\u001b[37m\u001b[0m \u001b[1m1020s\u001b[0m 101ms/step - accuracy: 0.7659 - loss: 0.4851 - val_accuracy: 0.7583 - val_loss: 0.4990\n",
      "Epoch 3/5\n",
      "\u001b[1m10108/10108\u001b[0m \u001b[32m━━━━━━━━━━━━━━━━━━━━\u001b[0m\u001b[37m\u001b[0m \u001b[1m1333s\u001b[0m 132ms/step - accuracy: 0.7876 - loss: 0.4504 - val_accuracy: 0.7632 - val_loss: 0.4975\n",
      "Epoch 4/5\n",
      "\u001b[1m10108/10108\u001b[0m \u001b[32m━━━━━━━━━━━━━━━━━━━━\u001b[0m\u001b[37m\u001b[0m \u001b[1m2172s\u001b[0m 215ms/step - accuracy: 0.8038 - loss: 0.4212 - val_accuracy: 0.7643 - val_loss: 0.5017\n",
      "Epoch 5/5\n",
      "\u001b[1m10108/10108\u001b[0m \u001b[32m━━━━━━━━━━━━━━━━━━━━\u001b[0m\u001b[37m\u001b[0m \u001b[1m2159s\u001b[0m 214ms/step - accuracy: 0.8184 - loss: 0.3963 - val_accuracy: 0.7624 - val_loss: 0.5092\n"
     ]
    },
    {
     "data": {
      "text/plain": [
       "<keras.src.callbacks.history.History at 0x20916846510>"
      ]
     },
     "execution_count": 23,
     "metadata": {},
     "output_type": "execute_result"
    }
   ],
   "source": [
    "import tensorflow as tf\n",
    "from tensorflow.keras.models import Model\n",
    "from tensorflow.keras.layers import Embedding, LSTM, Dense, concatenate, Input\n",
    "from tensorflow.keras.preprocessing.text import Tokenizer\n",
    "from tensorflow.keras.preprocessing.sequence import pad_sequences\n",
    "\n",
    "# Create a tokenizer\n",
    "tokenizer = Tokenizer(num_words=5000)\n",
    "tokenizer.fit_on_texts(df['question1'] + df['question2'])\n",
    "\n",
    "# Convert text data to sequences\n",
    "sequences1 = tokenizer.texts_to_sequences(df['question1'])\n",
    "sequences2 = tokenizer.texts_to_sequences(df['question2'])\n",
    "\n",
    "# Calculate the maximum length of the sequences\n",
    "max_length = max(len(x) for x in sequences1 + sequences2)\n",
    "\n",
    "# Pad the sequences\n",
    "padded_sequences1 = pad_sequences(sequences1, maxlen=max_length)\n",
    "padded_sequences2 = pad_sequences(sequences2, maxlen=max_length)\n",
    "\n",
    "# One-hot encode the labels\n",
    "y_onehot = pd.get_dummies(y).values\n",
    "\n",
    "# Split the data\n",
    "from sklearn.model_selection import train_test_split\n",
    "\n",
    "X_train1, X_test1, X_train2, X_test2, y_train, y_test = train_test_split(\n",
    "    padded_sequences1, padded_sequences2, y_onehot, test_size=0.2, random_state=42)\n",
    "\n",
    "# Create the model\n",
    "input1 = Input(shape=(max_length,))\n",
    "input2 = Input(shape=(max_length,))\n",
    "\n",
    "x1 = Embedding(input_dim=5000, output_dim=128)(input1)\n",
    "x1 = LSTM(units=64, dropout=0.2, recurrent_dropout=0.2)(x1)\n",
    "\n",
    "x2 = Embedding(input_dim=5000, output_dim=128)(input2)\n",
    "x2 = LSTM(units=64, dropout=0.2, recurrent_dropout=0.2)(x2)\n",
    "\n",
    "concat = concatenate([x1, x2])\n",
    "\n",
    "output = Dense(2, activation='softmax')(concat)\n",
    "\n",
    "model = Model(inputs=[input1, input2], outputs=output)\n",
    "\n",
    "# Compile the model\n",
    "model.compile(loss='categorical_crossentropy', optimizer='adam', metrics=['accuracy'])\n",
    "\n",
    "# Train the model\n",
    "model.fit([X_train1, X_train2], y_train, \n",
    "          validation_data=([X_test1, X_test2], y_test), \n",
    "          epochs=5, batch_size=32)"
   ]
  },
  {
   "cell_type": "markdown",
   "id": "d957be75",
   "metadata": {},
   "source": [
    "### Evaluate and Refine the Model\n",
    "\n",
    "+ Evaluate the model: Evaluate the model's performance on the testing set using metrics like accuracy, F1-score, precision, recall, and AUC-ROC.\n",
    "\n",
    "#### Evaluation:-\n",
    "\n",
    "1. Confusion Matrix: Let's take a look at the confusion matrix to see how the model is performing on each class.\n",
    "\n",
    "    This will give us an idea of how many true positives, false positives, true negatives, and false negatives the model is producing."
   ]
  },
  {
   "cell_type": "code",
   "execution_count": 24,
   "id": "d6750b7c",
   "metadata": {},
   "outputs": [
    {
     "name": "stdout",
     "output_type": "stream",
     "text": [
      "\u001b[1m2527/2527\u001b[0m \u001b[32m━━━━━━━━━━━━━━━━━━━━\u001b[0m\u001b[37m\u001b[0m \u001b[1m151s\u001b[0m 59ms/step\n",
      "[[43077  7726]\n",
      " [11485 18570]]\n"
     ]
    }
   ],
   "source": [
    "from sklearn.metrics import confusion_matrix\n",
    "\n",
    "y_pred = model.predict([X_test1, X_test2])\n",
    "y_pred_class = np.argmax(y_pred, axis=1)\n",
    "y_test_class = np.argmax(y_test, axis=1)\n",
    "\n",
    "conf_mat = confusion_matrix(y_test_class, y_pred_class)\n",
    "print(conf_mat)"
   ]
  },
  {
   "cell_type": "markdown",
   "id": "050f095d",
   "metadata": {},
   "source": [
    "2. ROC-AUC Curve: Let's plot the ROC-AUC curve to see how well the model is separating the classes.\n",
    "                This will give us an idea of how well the model is performing in terms of true positive rate and false positive rate."
   ]
  },
  {
   "cell_type": "code",
   "execution_count": 25,
   "id": "5b9c2347",
   "metadata": {},
   "outputs": [
    {
     "name": "stdout",
     "output_type": "stream",
     "text": [
      "\u001b[1m2527/2527\u001b[0m \u001b[32m━━━━━━━━━━━━━━━━━━━━\u001b[0m\u001b[37m\u001b[0m \u001b[1m147s\u001b[0m 58ms/step\n"
     ]
    },
    {
     "data": {
      "image/png": "[encoded data removed]",
      "text/plain": [
       "<Figure size 640x480 with 1 Axes>"
      ]
     },
     "metadata": {},
     "output_type": "display_data"
    }
   ],
   "source": [
    "from sklearn.metrics import roc_auc_score\n",
    "from sklearn.metrics import roc_curve\n",
    "\n",
    "y_pred_proba = model.predict([X_test1, X_test2])[:, 1]\n",
    "fpr, tpr, _ = roc_curve(y_test_class, y_pred_proba)\n",
    "auc = roc_auc_score(y_test_class, y_pred_proba)\n",
    "\n",
    "plt.plot(fpr, tpr, label='ROC curve (area = {:.3f})'.format(auc))\n",
    "plt.xlabel('False Positive Rate')\n",
    "plt.ylabel('True Positive Rate')\n",
    "plt.title('ROC-AUC Curve')\n",
    "plt.legend()\n",
    "plt.show()"
   ]
  },
  {
   "cell_type": "markdown",
   "id": "9fbc4f16",
   "metadata": {},
   "source": [
    "#### Improvement:-\n",
    "1. Hyperparameter Tuning: Let's try tuning some hyperparameters to see if we can improve the model's performance. We can use a grid search or random search to find the optimal hyperparameters."
   ]
  },
  {
   "cell_type": "code",
   "execution_count": 29,
   "id": "e15abaec",
   "metadata": {
    "scrolled": true
   },
   "outputs": [
    {
     "ename": "ValueError",
     "evalue": "Found input variables with inconsistent numbers of samples: [2, 323432]",
     "output_type": "error",
     "traceback": [
      "\u001b[1;31m---------------------------------------------------------------------------\u001b[0m",
      "\u001b[1;31mValueError\u001b[0m                                Traceback (most recent call last)",
      "Cell \u001b[1;32mIn[29], line 12\u001b[0m\n\u001b[0;32m      4\u001b[0m param_grid \u001b[38;5;241m=\u001b[39m {\n\u001b[0;32m      5\u001b[0m     \u001b[38;5;124m'\u001b[39m\u001b[38;5;124mbatch_size\u001b[39m\u001b[38;5;124m'\u001b[39m: [\u001b[38;5;241m32\u001b[39m, \u001b[38;5;241m64\u001b[39m, \u001b[38;5;241m128\u001b[39m],\n\u001b[0;32m      6\u001b[0m     \u001b[38;5;124m'\u001b[39m\u001b[38;5;124mepochs\u001b[39m\u001b[38;5;124m'\u001b[39m: [\u001b[38;5;241m5\u001b[39m, \u001b[38;5;241m10\u001b[39m, \u001b[38;5;241m15\u001b[39m],\n\u001b[0;32m      7\u001b[0m     \u001b[38;5;124m'\u001b[39m\u001b[38;5;124mdropout\u001b[39m\u001b[38;5;124m'\u001b[39m: [\u001b[38;5;241m0.1\u001b[39m, \u001b[38;5;241m0.2\u001b[39m, \u001b[38;5;241m0.3\u001b[39m],\n\u001b[0;32m      8\u001b[0m     \u001b[38;5;124m'\u001b[39m\u001b[38;5;124mecurrent_dropout\u001b[39m\u001b[38;5;124m'\u001b[39m: [\u001b[38;5;241m0.1\u001b[39m, \u001b[38;5;241m0.2\u001b[39m, \u001b[38;5;241m0.3\u001b[39m]\n\u001b[0;32m      9\u001b[0m }\n\u001b[0;32m     11\u001b[0m grid_search \u001b[38;5;241m=\u001b[39m GridSearchCV(model, param_grid, cv\u001b[38;5;241m=\u001b[39m\u001b[38;5;241m5\u001b[39m, scoring\u001b[38;5;241m=\u001b[39m\u001b[38;5;124m'\u001b[39m\u001b[38;5;124maccuracy\u001b[39m\u001b[38;5;124m'\u001b[39m)\n\u001b[1;32m---> 12\u001b[0m grid_search\u001b[38;5;241m.\u001b[39mfit([X_train1, X_train2], y_train)\n\u001b[0;32m     14\u001b[0m \u001b[38;5;28mprint\u001b[39m(\u001b[38;5;124m\"\u001b[39m\u001b[38;5;124mBest Parameters: \u001b[39m\u001b[38;5;124m\"\u001b[39m, grid_search\u001b[38;5;241m.\u001b[39mbest_params_)\n\u001b[0;32m     15\u001b[0m \u001b[38;5;28mprint\u001b[39m(\u001b[38;5;124m\"\u001b[39m\u001b[38;5;124mBest Score: \u001b[39m\u001b[38;5;124m\"\u001b[39m, grid_search\u001b[38;5;241m.\u001b[39mbest_score_)\n",
      "File \u001b[1;32mE:\\anaconda_py\\Lib\\site-packages\\sklearn\\base.py:1474\u001b[0m, in \u001b[0;36m_fit_context.<locals>.decorator.<locals>.wrapper\u001b[1;34m(estimator, *args, **kwargs)\u001b[0m\n\u001b[0;32m   1467\u001b[0m     estimator\u001b[38;5;241m.\u001b[39m_validate_params()\n\u001b[0;32m   1469\u001b[0m \u001b[38;5;28;01mwith\u001b[39;00m config_context(\n\u001b[0;32m   1470\u001b[0m     skip_parameter_validation\u001b[38;5;241m=\u001b[39m(\n\u001b[0;32m   1471\u001b[0m         prefer_skip_nested_validation \u001b[38;5;129;01mor\u001b[39;00m global_skip_validation\n\u001b[0;32m   1472\u001b[0m     )\n\u001b[0;32m   1473\u001b[0m ):\n\u001b[1;32m-> 1474\u001b[0m     \u001b[38;5;28;01mreturn\u001b[39;00m fit_method(estimator, \u001b[38;5;241m*\u001b[39margs, \u001b[38;5;241m*\u001b[39m\u001b[38;5;241m*\u001b[39mkwargs)\n",
      "File \u001b[1;32mE:\\anaconda_py\\Lib\\site-packages\\sklearn\\model_selection\\_search.py:874\u001b[0m, in \u001b[0;36mBaseSearchCV.fit\u001b[1;34m(self, X, y, **params)\u001b[0m\n\u001b[0;32m    869\u001b[0m \u001b[38;5;66;03m# Here we keep a dict of scorers as is, and only convert to a\u001b[39;00m\n\u001b[0;32m    870\u001b[0m \u001b[38;5;66;03m# _MultimetricScorer at a later stage. Issue:\u001b[39;00m\n\u001b[0;32m    871\u001b[0m \u001b[38;5;66;03m# https://github.com/scikit-learn/scikit-learn/issues/27001\u001b[39;00m\n\u001b[0;32m    872\u001b[0m scorers, refit_metric \u001b[38;5;241m=\u001b[39m \u001b[38;5;28mself\u001b[39m\u001b[38;5;241m.\u001b[39m_get_scorers(convert_multimetric\u001b[38;5;241m=\u001b[39m\u001b[38;5;28;01mFalse\u001b[39;00m)\n\u001b[1;32m--> 874\u001b[0m X, y \u001b[38;5;241m=\u001b[39m indexable(X, y)\n\u001b[0;32m    875\u001b[0m params \u001b[38;5;241m=\u001b[39m _check_method_params(X, params\u001b[38;5;241m=\u001b[39mparams)\n\u001b[0;32m    877\u001b[0m routed_params \u001b[38;5;241m=\u001b[39m \u001b[38;5;28mself\u001b[39m\u001b[38;5;241m.\u001b[39m_get_routed_params_for_fit(params)\n",
      "File \u001b[1;32mE:\\anaconda_py\\Lib\\site-packages\\sklearn\\utils\\validation.py:514\u001b[0m, in \u001b[0;36mindexable\u001b[1;34m(*iterables)\u001b[0m\n\u001b[0;32m    484\u001b[0m \u001b[38;5;250m\u001b[39m\u001b[38;5;124;03m\"\"\"Make arrays indexable for cross-validation.\u001b[39;00m\n\u001b[0;32m    485\u001b[0m \n\u001b[0;32m    486\u001b[0m \u001b[38;5;124;03mChecks consistent length, passes through None, and ensures that everything\u001b[39;00m\n\u001b[1;32m   (...)\u001b[0m\n\u001b[0;32m    510\u001b[0m \u001b[38;5;124;03m[[1, 2, 3], array([2, 3, 4]), None, <3x1 sparse matrix ...>]\u001b[39;00m\n\u001b[0;32m    511\u001b[0m \u001b[38;5;124;03m\"\"\"\u001b[39;00m\n\u001b[0;32m    513\u001b[0m result \u001b[38;5;241m=\u001b[39m [_make_indexable(X) \u001b[38;5;28;01mfor\u001b[39;00m X \u001b[38;5;129;01min\u001b[39;00m iterables]\n\u001b[1;32m--> 514\u001b[0m check_consistent_length(\u001b[38;5;241m*\u001b[39mresult)\n\u001b[0;32m    515\u001b[0m \u001b[38;5;28;01mreturn\u001b[39;00m result\n",
      "File \u001b[1;32mE:\\anaconda_py\\Lib\\site-packages\\sklearn\\utils\\validation.py:457\u001b[0m, in \u001b[0;36mcheck_consistent_length\u001b[1;34m(*arrays)\u001b[0m\n\u001b[0;32m    455\u001b[0m uniques \u001b[38;5;241m=\u001b[39m np\u001b[38;5;241m.\u001b[39munique(lengths)\n\u001b[0;32m    456\u001b[0m \u001b[38;5;28;01mif\u001b[39;00m \u001b[38;5;28mlen\u001b[39m(uniques) \u001b[38;5;241m>\u001b[39m \u001b[38;5;241m1\u001b[39m:\n\u001b[1;32m--> 457\u001b[0m     \u001b[38;5;28;01mraise\u001b[39;00m \u001b[38;5;167;01mValueError\u001b[39;00m(\n\u001b[0;32m    458\u001b[0m         \u001b[38;5;124m\"\u001b[39m\u001b[38;5;124mFound input variables with inconsistent numbers of samples: \u001b[39m\u001b[38;5;132;01m%r\u001b[39;00m\u001b[38;5;124m\"\u001b[39m\n\u001b[0;32m    459\u001b[0m         \u001b[38;5;241m%\u001b[39m [\u001b[38;5;28mint\u001b[39m(l) \u001b[38;5;28;01mfor\u001b[39;00m l \u001b[38;5;129;01min\u001b[39;00m lengths]\n\u001b[0;32m    460\u001b[0m     )\n",
      "\u001b[1;31mValueError\u001b[0m: Found input variables with inconsistent numbers of samples: [2, 323432]"
     ]
    }
   ],
   "source": [
    "from sklearn.model_selection import GridSearchCV\n",
    "\n",
    "y = y.values.reshape(-1, 1)\n",
    "param_grid = {\n",
    "    'batch_size': [32, 64, 128],\n",
    "    'epochs': [5, 10, 15],\n",
    "    'dropout': [0.1, 0.2, 0.3],\n",
    "    'ecurrent_dropout': [0.1, 0.2, 0.3]\n",
    "}\n",
    "\n",
    "grid_search = GridSearchCV(model, param_grid, cv=5, scoring='accuracy')\n",
    "grid_search.fit([X_train1, X_train2], y_train)\n",
    "\n",
    "print(\"Best Parameters: \", grid_search.best_params_)\n",
    "print(\"Best Score: \", grid_search.best_score_)"
   ]
  },
  {
   "cell_type": "code",
   "execution_count": 31,
   "id": "3b2a8693",
   "metadata": {},
   "outputs": [
    {
     "name": "stdout",
     "output_type": "stream",
     "text": [
      "(404290, 5000) (404290, 1)\n"
     ]
    }
   ],
   "source": [
    "print(X.shape, y.shape)"
   ]
  },
  {
   "cell_type": "code",
   "execution_count": null,
   "id": "4e14a9d1",
   "metadata": {},
   "outputs": [],
   "source": []
  }
 ],
 "metadata": {
  "kernelspec": {
   "display_name": "Python 3 (ipykernel)",
   "language": "python",
   "name": "python3"
  },
  "language_info": {
   "codemirror_mode": {
    "name": "ipython",
    "version": 3
   },
   "file_extension": ".py",
   "mimetype": "text/x-python",
   "name": "python",
   "nbconvert_exporter": "python",
   "pygments_lexer": "ipython3",
   "version": "3.12.4"
  }
 },
 "nbformat": 4,
 "nbformat_minor": 5
}
