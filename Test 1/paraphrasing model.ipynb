{
 "cells": [
  {
   "cell_type": "markdown",
   "id": "3d4bb8d9",
   "metadata": {},
   "source": [
    "# Preprocessing the data"
   ]
  },
  {
   "cell_type": "markdown",
   "id": "ea65038e",
   "metadata": {},
   "source": [
    "Step 1: Import necessary libraries"
   ]
  },
  {
   "cell_type": "code",
   "execution_count": 2,
   "id": "41e3a9a8",
   "metadata": {},
   "outputs": [],
   "source": [
    "import pandas as pd\n",
    "import numpy as np\n",
    "import nltk\n",
    "from nltk.tokenize import word_tokenize\n",
    "from nltk.corpus import stopwords\n",
    "from nltk.stem import WordNetLemmatizer\n",
    "from sklearn.feature_extraction.text import TfidfVectorizer\n",
    "from matplotlib import pyplot as plt"
   ]
  },
  {
   "cell_type": "markdown",
   "id": "b09f2224",
   "metadata": {},
   "source": [
    "Step 2: Load the dataset"
   ]
  },
  {
   "cell_type": "code",
   "execution_count": 3,
   "id": "e4dfd5ee",
   "metadata": {},
   "outputs": [
    {
     "data": {
      "text/html": [
       "<div>\n",
       "<style scoped>\n",
       "    .dataframe tbody tr th:only-of-type {\n",
       "        vertical-align: middle;\n",
       "    }\n",
       "\n",
       "    .dataframe tbody tr th {\n",
       "        vertical-align: top;\n",
       "    }\n",
       "\n",
       "    .dataframe thead th {\n",
       "        text-align: right;\n",
       "    }\n",
       "</style>\n",
       "<table border=\"1\" class=\"dataframe\">\n",
       "  <thead>\n",
       "    <tr style=\"text-align: right;\">\n",
       "      <th></th>\n",
       "      <th>id</th>\n",
       "      <th>sentence1</th>\n",
       "      <th>sentence2</th>\n",
       "      <th>label</th>\n",
       "    </tr>\n",
       "  </thead>\n",
       "  <tbody>\n",
       "    <tr>\n",
       "      <th>0</th>\n",
       "      <td>1</td>\n",
       "      <td>In Paris , in October 1560 , he secretly met t...</td>\n",
       "      <td>In October 1560 , he secretly met with the Eng...</td>\n",
       "      <td>0</td>\n",
       "    </tr>\n",
       "    <tr>\n",
       "      <th>1</th>\n",
       "      <td>2</td>\n",
       "      <td>The NBA season of 1975 -- 76 was the 30th seas...</td>\n",
       "      <td>The 1975 -- 76 season of the National Basketba...</td>\n",
       "      <td>1</td>\n",
       "    </tr>\n",
       "    <tr>\n",
       "      <th>2</th>\n",
       "      <td>3</td>\n",
       "      <td>There are also specific discussions , public p...</td>\n",
       "      <td>There are also public discussions , profile sp...</td>\n",
       "      <td>0</td>\n",
       "    </tr>\n",
       "    <tr>\n",
       "      <th>3</th>\n",
       "      <td>4</td>\n",
       "      <td>When comparable rates of flow can be maintaine...</td>\n",
       "      <td>The results are high when comparable flow rate...</td>\n",
       "      <td>1</td>\n",
       "    </tr>\n",
       "    <tr>\n",
       "      <th>4</th>\n",
       "      <td>5</td>\n",
       "      <td>It is the seat of Zerendi District in Akmola R...</td>\n",
       "      <td>It is the seat of the district of Zerendi in A...</td>\n",
       "      <td>1</td>\n",
       "    </tr>\n",
       "  </tbody>\n",
       "</table>\n",
       "</div>"
      ],
      "text/plain": [
       "   id                                          sentence1  \\\n",
       "0   1  In Paris , in October 1560 , he secretly met t...   \n",
       "1   2  The NBA season of 1975 -- 76 was the 30th seas...   \n",
       "2   3  There are also specific discussions , public p...   \n",
       "3   4  When comparable rates of flow can be maintaine...   \n",
       "4   5  It is the seat of Zerendi District in Akmola R...   \n",
       "\n",
       "                                           sentence2  label  \n",
       "0  In October 1560 , he secretly met with the Eng...      0  \n",
       "1  The 1975 -- 76 season of the National Basketba...      1  \n",
       "2  There are also public discussions , profile sp...      0  \n",
       "3  The results are high when comparable flow rate...      1  \n",
       "4  It is the seat of the district of Zerendi in A...      1  "
      ]
     },
     "execution_count": 3,
     "metadata": {},
     "output_type": "execute_result"
    }
   ],
   "source": [
    "df = pd.read_csv(\"labeled_final_train.csv\")\n",
    "df.head()"
   ]
  },
  {
   "cell_type": "markdown",
   "id": "d7bff92e",
   "metadata": {},
   "source": [
    "Step 3: Tokenize the text data\n",
    "\n",
    "Tokenization: Split each question into individual words or tokens using a tokenizer like NLTK or spaCy."
   ]
  },
  {
   "cell_type": "code",
   "execution_count": 20,
   "id": "53a6fb5d",
   "metadata": {},
   "outputs": [
    {
     "name": "stderr",
     "output_type": "stream",
     "text": [
      "[nltk_data] Downloading package punkt to\n",
      "[nltk_data]     C:\\Users\\astro\\AppData\\Roaming\\nltk_data...\n",
      "[nltk_data]   Package punkt is already up-to-date!\n",
      "[nltk_data] Downloading package wordnet to\n",
      "[nltk_data]     C:\\Users\\astro\\AppData\\Roaming\\nltk_data...\n",
      "[nltk_data]   Package wordnet is already up-to-date!\n"
     ]
    },
    {
     "name": "stdout",
     "output_type": "stream",
     "text": [
      "0        [In, October, secretly, met, English, ambassad...\n",
      "1        [The, season, National, Basketball, Associatio...\n",
      "2        [There, also, public, discussion, profile, spe...\n",
      "3        [The, result, high, comparable, flow, rate, ma...\n",
      "4            [It, seat, district, Zerendi, Akmola, region]\n",
      "                               ...                        \n",
      "49396    [Our, School, Temporal, Spiritual, Love, The, ...\n",
      "49397              [She, Cork, June, arrived, Downs, July]\n",
      "49398    [John, John, Cecil, child, George, Cornelia, S...\n",
      "49399    [The, fourth, season, premiered, June, Like, t...\n",
      "49400    [It, also, known, one, location, mainland, Cal...\n",
      "Name: sentence2_tokens, Length: 49401, dtype: object\n"
     ]
    }
   ],
   "source": [
    "nltk.download('punkt')\n",
    "nltk.download('wordnet')\n",
    "\n",
    "def tokenize_text(text):\n",
    "    tokens = word_tokenize(text)\n",
    "    tokens = [t for t in tokens if t.isalpha()]  # remove punctuation\n",
    "    return tokens\n",
    "\n",
    "df['sentence1_tokens'] = df['sentence1'].apply(tokenize_text)\n",
    "df['sentence2_tokens'] = df['sentence2'].apply(tokenize_text)\n"
   ]
  },
  {
   "cell_type": "markdown",
   "id": "e76cad54",
   "metadata": {},
   "source": [
    "step 4 : Remove stopwords\n",
    "\n",
    "Stopword removal: Remove common stopwords like \"the\", \"and\", \"a\", etc. that don't add much value to the meaning."
   ]
  },
  {
   "cell_type": "code",
   "execution_count": 4,
   "id": "f8aa6f0c",
   "metadata": {},
   "outputs": [
    {
     "name": "stderr",
     "output_type": "stream",
     "text": [
      "[nltk_data] Downloading package stopwords to\n",
      "[nltk_data]     C:\\Users\\astro\\AppData\\Roaming\\nltk_data...\n",
      "[nltk_data]   Package stopwords is already up-to-date!\n"
     ]
    }
   ],
   "source": [
    "nltk.download('stopwords')\n",
    "\n",
    "stop_words = set(stopwords.words('english'))\n",
    "\n",
    "def remove_stopwords(tokens):\n",
    "    tokens = [t for t in tokens if t not in stop_words]\n",
    "    return tokens\n",
    "\n",
    "df['sentence1_tokens'] = df['sentence1_tokens'].apply(remove_stopwords)\n",
    "df['sentence2_tokens'] = df['sentence2_tokens'].apply(remove_stopwords)"
   ]
  },
  {
   "cell_type": "markdown",
   "id": "c4bfc633",
   "metadata": {},
   "source": [
    "Step 5: Lemmatize the tokens\n",
    "\n",
    "Stemming or Lemmatization: Reduce words to their base form (e.g., \"running\" becomes \"run\") using a stemmer or lemmatizer like PorterStemmer or WordNetLemmatizer."
   ]
  },
  {
   "cell_type": "code",
   "execution_count": 5,
   "id": "df481c9d",
   "metadata": {},
   "outputs": [],
   "source": [
    "lemmatizer = WordNetLemmatizer()\n",
    "\n",
    "def lemmatize_tokens(tokens):\n",
    "    tokens = [lemmatizer.lemmatize(t) for t in tokens]\n",
    "    return tokens\n",
    "\n",
    "df['sentence1_tokens'] = df['sentence1_tokens'].apply(lemmatize_tokens)\n",
    "df['sentence2_tokens'] = df['sentence2_tokens'].apply(lemmatize_tokens)"
   ]
  },
  {
   "cell_type": "markdown",
   "id": "23fef510",
   "metadata": {},
   "source": [
    "Step 6: Convert tokens back to text"
   ]
  },
  {
   "cell_type": "code",
   "execution_count": 6,
   "id": "4c745a08",
   "metadata": {},
   "outputs": [],
   "source": [
    "def tokens_to_text(tokens):\n",
    "    text = ' '.join(tokens)\n",
    "    return text\n",
    "\n",
    "df['sentence1'] = df['sentence1_tokens'].apply(tokens_to_text)\n",
    "df['sentence2'] = df['sentence2_tokens'].apply(tokens_to_text)"
   ]
  },
  {
   "cell_type": "markdown",
   "id": "0436befa",
   "metadata": {},
   "source": [
    "Step 7: Vectorize the text data using TF-IDF\n",
    "\n",
    "Vectorization: Convert text data into numerical vectors using techniques like:\n",
    "Bag-of-Words (BoW)\n",
    "Term Frequency-Inverse Document Frequency (TF-IDF)\n",
    "Word Embeddings (e.g., Word2Vec, GloVe)"
   ]
  },
  {
   "cell_type": "code",
   "execution_count": 7,
   "id": "84d4d996",
   "metadata": {},
   "outputs": [],
   "source": [
    "vectorizer = TfidfVectorizer(max_features=5000)\n",
    "\n",
    "X = vectorizer.fit_transform(df['sentence1'] + ' ' + df['sentence2'])\n",
    "y = df['label']"
   ]
  },
  {
   "cell_type": "code",
   "execution_count": 8,
   "id": "94a9317d",
   "metadata": {},
   "outputs": [
    {
     "data": {
      "text/plain": [
       "<49401x5000 sparse matrix of type '<class 'numpy.float64'>'\n",
       "\twith 417874 stored elements in Compressed Sparse Row format>"
      ]
     },
     "execution_count": 8,
     "metadata": {},
     "output_type": "execute_result"
    }
   ],
   "source": [
    "X"
   ]
  },
  {
   "cell_type": "code",
   "execution_count": 9,
   "id": "68310bda",
   "metadata": {},
   "outputs": [
    {
     "data": {
      "text/plain": [
       "0        0\n",
       "1        1\n",
       "2        0\n",
       "3        1\n",
       "4        1\n",
       "        ..\n",
       "49396    0\n",
       "49397    1\n",
       "49398    0\n",
       "49399    0\n",
       "49400    0\n",
       "Name: label, Length: 49401, dtype: int64"
      ]
     },
     "execution_count": 9,
     "metadata": {},
     "output_type": "execute_result"
    }
   ],
   "source": [
    "y"
   ]
  },
  {
   "cell_type": "markdown",
   "id": "31bf2722",
   "metadata": {},
   "source": [
    "# Splitting the data"
   ]
  },
  {
   "cell_type": "markdown",
   "id": "3de261e6",
   "metadata": {},
   "source": [
    "Split into training, validation, and testing sets: Divide the preprocessed data into three sets: training (e.g., 80%), validation (e.g., 10%), and testing (e.g., 10%) using train_test_split() from scikit-learn."
   ]
  },
  {
   "cell_type": "code",
   "execution_count": 10,
   "id": "3abc60e2",
   "metadata": {},
   "outputs": [],
   "source": [
    "from sklearn.model_selection import train_test_split\n",
    "\n",
    "# Define the test and validation size\n",
    "test_size = 0.2\n",
    "val_size = 0.25  # 0.25 x 0.8 = 0.2\n",
    "\n",
    "# Split the data into training+validation set and testing set\n",
    "X_train_val, X_test, y_train_val, y_test = train_test_split(X, y, test_size=test_size, random_state=42)\n",
    "\n",
    "# Split the training+validation set into training and validation sets\n",
    "X_train, X_val, y_train, y_val = train_test_split(X_train_val, y_train_val, test_size=val_size, random_state=42)\n"
   ]
  },
  {
   "cell_type": "code",
   "execution_count": 11,
   "id": "9564bc26",
   "metadata": {},
   "outputs": [],
   "source": [
    "X_train = X_train.toarray()\n",
    "X_val = X_val.toarray()\n",
    "X_test = X_test.toarray()"
   ]
  },
  {
   "cell_type": "code",
   "execution_count": 12,
   "id": "608970bf",
   "metadata": {},
   "outputs": [
    {
     "name": "stdout",
     "output_type": "stream",
     "text": [
      "(29640, 5000) (29640,)\n"
     ]
    }
   ],
   "source": [
    "print(X_train.shape, y_train.shape)"
   ]
  },
  {
   "cell_type": "markdown",
   "id": "54165e3d",
   "metadata": {},
   "source": [
    "# Building the model"
   ]
  },
  {
   "cell_type": "markdown",
   "id": "d94354bc",
   "metadata": {},
   "source": [
    "Build a Baseline Model\n",
    "\n",
    "1. Choose a model architecture: Select a suitable model architecture for paraphrase detection. \n",
    "    Thus we use Recurrent Neural Network (RNN)\n",
    "    \n",
    "2. Implement the model: Implement the chosen model architecture using a deep learning library like TensorFlow, Keras, or PyTorch.\n",
    "\n",
    "3. Train the model: Train the model on the training set, monitoring the validation set performance to avoid overfitting."
   ]
  },
  {
   "cell_type": "code",
   "execution_count": 13,
   "id": "252cbff1",
   "metadata": {},
   "outputs": [
    {
     "name": "stdout",
     "output_type": "stream",
     "text": [
      "Epoch 1/5\n",
      "\u001b[1m1235/1235\u001b[0m \u001b[32m━━━━━━━━━━━━━━━━━━━━\u001b[0m\u001b[37m\u001b[0m \u001b[1m36s\u001b[0m 25ms/step - accuracy: 0.5626 - loss: 0.6860 - val_accuracy: 0.5897 - val_loss: 0.6666\n",
      "Epoch 2/5\n",
      "\u001b[1m1235/1235\u001b[0m \u001b[32m━━━━━━━━━━━━━━━━━━━━\u001b[0m\u001b[37m\u001b[0m \u001b[1m28s\u001b[0m 23ms/step - accuracy: 0.6054 - loss: 0.6553 - val_accuracy: 0.5982 - val_loss: 0.6598\n",
      "Epoch 3/5\n",
      "\u001b[1m1235/1235\u001b[0m \u001b[32m━━━━━━━━━━━━━━━━━━━━\u001b[0m\u001b[37m\u001b[0m \u001b[1m30s\u001b[0m 24ms/step - accuracy: 0.6245 - loss: 0.6339 - val_accuracy: 0.5898 - val_loss: 0.6758\n",
      "Epoch 4/5\n",
      "\u001b[1m1235/1235\u001b[0m \u001b[32m━━━━━━━━━━━━━━━━━━━━\u001b[0m\u001b[37m\u001b[0m \u001b[1m28s\u001b[0m 23ms/step - accuracy: 0.6409 - loss: 0.6169 - val_accuracy: 0.5713 - val_loss: 0.6988\n",
      "Epoch 5/5\n",
      "\u001b[1m1235/1235\u001b[0m \u001b[32m━━━━━━━━━━━━━━━━━━━━\u001b[0m\u001b[37m\u001b[0m \u001b[1m29s\u001b[0m 24ms/step - accuracy: 0.6555 - loss: 0.6019 - val_accuracy: 0.5550 - val_loss: 0.7309\n"
     ]
    },
    {
     "data": {
      "text/plain": [
       "<keras.src.callbacks.history.History at 0x1ae50e7d450>"
      ]
     },
     "execution_count": 13,
     "metadata": {},
     "output_type": "execute_result"
    }
   ],
   "source": [
    "import tensorflow as tf\n",
    "from tensorflow.keras.models import Model\n",
    "from tensorflow.keras.layers import Embedding, LSTM, Dense, concatenate, Input\n",
    "from tensorflow.keras.preprocessing.text import Tokenizer\n",
    "from tensorflow.keras.preprocessing.sequence import pad_sequences\n",
    "\n",
    "# Create a tokenizer\n",
    "tokenizer = Tokenizer(num_words=5000)\n",
    "tokenizer.fit_on_texts(df['sentence1'] + df['sentence2'])\n",
    "\n",
    "# Convert text data to sequences\n",
    "sequences1 = tokenizer.texts_to_sequences(df['sentence1'])\n",
    "sequences2 = tokenizer.texts_to_sequences(df['sentence2'])\n",
    "\n",
    "# Calculate the maximum length of the sequences\n",
    "max_length = max(len(x) for x in sequences1 + sequences2)\n",
    "\n",
    "# Pad the sequences\n",
    "padded_sequences1 = pad_sequences(sequences1, maxlen=max_length)\n",
    "padded_sequences2 = pad_sequences(sequences2, maxlen=max_length)\n",
    "\n",
    "# One-hot encode the labels\n",
    "y_onehot = pd.get_dummies(y).values\n",
    "\n",
    "# Split the data\n",
    "from sklearn.model_selection import train_test_split\n",
    "\n",
    "X_train1, X_test1, X_train2, X_test2, y_train, y_test = train_test_split(\n",
    "    padded_sequences1, padded_sequences2, y_onehot, test_size=0.2, random_state=42)\n",
    "\n",
    "# Create the model\n",
    "input1 = Input(shape=(max_length,))\n",
    "input2 = Input(shape=(max_length,))\n",
    "\n",
    "x1 = Embedding(input_dim=5000, output_dim=128)(input1)\n",
    "x1 = LSTM(units=64, dropout=0.2, recurrent_dropout=0.2)(x1)\n",
    "\n",
    "x2 = Embedding(input_dim=5000, output_dim=128)(input2)\n",
    "x2 = LSTM(units=64, dropout=0.2, recurrent_dropout=0.2)(x2)\n",
    "\n",
    "concat = concatenate([x1, x2])\n",
    "\n",
    "output = Dense(2, activation='softmax')(concat)\n",
    "\n",
    "model = Model(inputs=[input1, input2], outputs=output)\n",
    "\n",
    "# Compile the model\n",
    "model.compile(loss='categorical_crossentropy', optimizer='adam', metrics=['accuracy'])\n",
    "\n",
    "# Train the model\n",
    "model.fit([X_train1, X_train2], y_train, \n",
    "          validation_data=([X_test1, X_test2], y_test), \n",
    "          epochs=5, batch_size=32)"
   ]
  },
  {
   "cell_type": "markdown",
   "id": "2dbb5a62",
   "metadata": {},
   "source": [
    "# Evaluate and Refine the Model\n",
    "\n",
    "+ Evaluate the model: Evaluate the model's performance on the testing set using metrics like accuracy, F1-score, precision, recall, and AUC-ROC.\n",
    "\n",
    "#### Evaluation:-\n",
    "\n",
    "1. Confusion Matrix: Let's take a look at the confusion matrix to see how the model is performing on each class.\n",
    "\n",
    "    This will give us an idea of how many true positives, false positives, true negatives, and false negatives the model is producing."
   ]
  },
  {
   "cell_type": "code",
   "execution_count": 14,
   "id": "d17d72c5",
   "metadata": {},
   "outputs": [
    {
     "name": "stdout",
     "output_type": "stream",
     "text": [
      "\u001b[1m309/309\u001b[0m \u001b[32m━━━━━━━━━━━━━━━━━━━━\u001b[0m\u001b[37m\u001b[0m \u001b[1m4s\u001b[0m 13ms/step\n",
      "[[4590  959]\n",
      " [3438  894]]\n"
     ]
    }
   ],
   "source": [
    "from sklearn.metrics import confusion_matrix\n",
    "\n",
    "y_pred = model.predict([X_test1, X_test2])\n",
    "y_pred_class = np.argmax(y_pred, axis=1)\n",
    "y_test_class = np.argmax(y_test, axis=1)\n",
    "\n",
    "conf_mat = confusion_matrix(y_test_class, y_pred_class)\n",
    "print(conf_mat)"
   ]
  },
  {
   "cell_type": "markdown",
   "id": "8306b391",
   "metadata": {},
   "source": [
    "2. ROC-AUC Curve: Let's plot the ROC-AUC curve to see how well the model is separating the classes.\n",
    "                This will give us an idea of how well the model is performing in terms of true positive rate and false positive rate."
   ]
  },
  {
   "cell_type": "code",
   "execution_count": 15,
   "id": "a685a93b",
   "metadata": {},
   "outputs": [
    {
     "name": "stdout",
     "output_type": "stream",
     "text": [
      "\u001b[1m309/309\u001b[0m \u001b[32m━━━━━━━━━━━━━━━━━━━━\u001b[0m\u001b[37m\u001b[0m \u001b[1m3s\u001b[0m 11ms/step\n"
     ]
    },
    {
     "data": {
      "image/png": "[encoded data removed]",
      "text/plain": [
       "<Figure size 640x480 with 1 Axes>"
      ]
     },
     "metadata": {},
     "output_type": "display_data"
    }
   ],
   "source": [
    "from sklearn.metrics import roc_auc_score\n",
    "from sklearn.metrics import roc_curve\n",
    "\n",
    "y_pred_proba = model.predict([X_test1, X_test2])[:, 1]\n",
    "fpr, tpr, _ = roc_curve(y_test_class, y_pred_proba)\n",
    "auc = roc_auc_score(y_test_class, y_pred_proba)\n",
    "\n",
    "plt.plot(fpr, tpr, label='ROC curve (area = {:.3f})'.format(auc))\n",
    "plt.xlabel('False Positive Rate')\n",
    "plt.ylabel('True Positive Rate')\n",
    "plt.title('ROC-AUC Curve')\n",
    "plt.legend()\n",
    "plt.show()"
   ]
  },
  {
   "cell_type": "markdown",
   "id": "8a61520f",
   "metadata": {},
   "source": [
    "#### Improvement:-\n",
    "1. Hyperparameter Tuning: Let's try tuning some hyperparameters to see if we can improve the model's performance. We can use a grid search or random search to find the optimal hyperparameters."
   ]
  },
  {
   "cell_type": "code",
   "execution_count": 16,
   "id": "5bc1401b",
   "metadata": {},
   "outputs": [
    {
     "name": "stdout",
     "output_type": "stream",
     "text": [
      "(29640, 5000) (39520, 2)\n"
     ]
    }
   ],
   "source": [
    "print(X_train.shape, y_train.shape)"
   ]
  },
  {
   "cell_type": "code",
   "execution_count": 17,
   "id": "aa3fad3c",
   "metadata": {},
   "outputs": [
    {
     "ename": "IndexError",
     "evalue": "index 35702 is out of bounds for axis 0 with size 29640",
     "output_type": "error",
     "traceback": [
      "\u001b[1;31m---------------------------------------------------------------------------\u001b[0m",
      "\u001b[1;31mIndexError\u001b[0m                                Traceback (most recent call last)",
      "Cell \u001b[1;32mIn[17], line 4\u001b[0m\n\u001b[0;32m      1\u001b[0m \u001b[38;5;28;01mfrom\u001b[39;00m \u001b[38;5;21;01mimblearn\u001b[39;00m\u001b[38;5;21;01m.\u001b[39;00m\u001b[38;5;21;01mover_sampling\u001b[39;00m \u001b[38;5;28;01mimport\u001b[39;00m RandomOverSampler\n\u001b[0;32m      3\u001b[0m ros \u001b[38;5;241m=\u001b[39m RandomOverSampler(random_state\u001b[38;5;241m=\u001b[39m\u001b[38;5;241m42\u001b[39m)\n\u001b[1;32m----> 4\u001b[0m X_resampled, y_resampled \u001b[38;5;241m=\u001b[39m ros\u001b[38;5;241m.\u001b[39mfit_resample(X_train, y_train)\n",
      "File \u001b[1;32mE:\\anaconda_py\\Lib\\site-packages\\imblearn\\base.py:208\u001b[0m, in \u001b[0;36mBaseSampler.fit_resample\u001b[1;34m(self, X, y)\u001b[0m\n\u001b[0;32m    187\u001b[0m \u001b[38;5;250m\u001b[39m\u001b[38;5;124;03m\"\"\"Resample the dataset.\u001b[39;00m\n\u001b[0;32m    188\u001b[0m \n\u001b[0;32m    189\u001b[0m \u001b[38;5;124;03mParameters\u001b[39;00m\n\u001b[1;32m   (...)\u001b[0m\n\u001b[0;32m    205\u001b[0m \u001b[38;5;124;03m    The corresponding label of `X_resampled`.\u001b[39;00m\n\u001b[0;32m    206\u001b[0m \u001b[38;5;124;03m\"\"\"\u001b[39;00m\n\u001b[0;32m    207\u001b[0m \u001b[38;5;28mself\u001b[39m\u001b[38;5;241m.\u001b[39m_validate_params()\n\u001b[1;32m--> 208\u001b[0m \u001b[38;5;28;01mreturn\u001b[39;00m \u001b[38;5;28msuper\u001b[39m()\u001b[38;5;241m.\u001b[39mfit_resample(X, y)\n",
      "File \u001b[1;32mE:\\anaconda_py\\Lib\\site-packages\\imblearn\\base.py:112\u001b[0m, in \u001b[0;36mSamplerMixin.fit_resample\u001b[1;34m(self, X, y)\u001b[0m\n\u001b[0;32m    106\u001b[0m X, y, binarize_y \u001b[38;5;241m=\u001b[39m \u001b[38;5;28mself\u001b[39m\u001b[38;5;241m.\u001b[39m_check_X_y(X, y)\n\u001b[0;32m    108\u001b[0m \u001b[38;5;28mself\u001b[39m\u001b[38;5;241m.\u001b[39msampling_strategy_ \u001b[38;5;241m=\u001b[39m check_sampling_strategy(\n\u001b[0;32m    109\u001b[0m     \u001b[38;5;28mself\u001b[39m\u001b[38;5;241m.\u001b[39msampling_strategy, y, \u001b[38;5;28mself\u001b[39m\u001b[38;5;241m.\u001b[39m_sampling_type\n\u001b[0;32m    110\u001b[0m )\n\u001b[1;32m--> 112\u001b[0m output \u001b[38;5;241m=\u001b[39m \u001b[38;5;28mself\u001b[39m\u001b[38;5;241m.\u001b[39m_fit_resample(X, y)\n\u001b[0;32m    114\u001b[0m y_ \u001b[38;5;241m=\u001b[39m (\n\u001b[0;32m    115\u001b[0m     label_binarize(output[\u001b[38;5;241m1\u001b[39m], classes\u001b[38;5;241m=\u001b[39mnp\u001b[38;5;241m.\u001b[39munique(y)) \u001b[38;5;28;01mif\u001b[39;00m binarize_y \u001b[38;5;28;01melse\u001b[39;00m output[\u001b[38;5;241m1\u001b[39m]\n\u001b[0;32m    116\u001b[0m )\n\u001b[0;32m    118\u001b[0m X_, y_ \u001b[38;5;241m=\u001b[39m arrays_transformer\u001b[38;5;241m.\u001b[39mtransform(output[\u001b[38;5;241m0\u001b[39m], y_)\n",
      "File \u001b[1;32mE:\\anaconda_py\\Lib\\site-packages\\imblearn\\over_sampling\\_random_over_sampler.py:238\u001b[0m, in \u001b[0;36mRandomOverSampler._fit_resample\u001b[1;34m(self, X, y)\u001b[0m\n\u001b[0;32m    235\u001b[0m         X_resampled\u001b[38;5;241m.\u001b[39mappend(X_new)\n\u001b[0;32m    236\u001b[0m     \u001b[38;5;28;01melse\u001b[39;00m:\n\u001b[0;32m    237\u001b[0m         \u001b[38;5;66;03m# generate a bootstrap\u001b[39;00m\n\u001b[1;32m--> 238\u001b[0m         X_resampled\u001b[38;5;241m.\u001b[39mappend(_safe_indexing(X, bootstrap_indices))\n\u001b[0;32m    240\u001b[0m     y_resampled\u001b[38;5;241m.\u001b[39mappend(_safe_indexing(y, bootstrap_indices))\n\u001b[0;32m    242\u001b[0m \u001b[38;5;28mself\u001b[39m\u001b[38;5;241m.\u001b[39msample_indices_ \u001b[38;5;241m=\u001b[39m np\u001b[38;5;241m.\u001b[39marray(sample_indices)\n",
      "File \u001b[1;32mE:\\anaconda_py\\Lib\\site-packages\\sklearn\\utils\\__init__.py:411\u001b[0m, in \u001b[0;36m_safe_indexing\u001b[1;34m(X, indices, axis)\u001b[0m\n\u001b[0;32m    409\u001b[0m     \u001b[38;5;28;01mreturn\u001b[39;00m _polars_indexing(X, indices, indices_dtype, axis\u001b[38;5;241m=\u001b[39maxis)\n\u001b[0;32m    410\u001b[0m \u001b[38;5;28;01melif\u001b[39;00m \u001b[38;5;28mhasattr\u001b[39m(X, \u001b[38;5;124m\"\u001b[39m\u001b[38;5;124mshape\u001b[39m\u001b[38;5;124m\"\u001b[39m):\n\u001b[1;32m--> 411\u001b[0m     \u001b[38;5;28;01mreturn\u001b[39;00m _array_indexing(X, indices, indices_dtype, axis\u001b[38;5;241m=\u001b[39maxis)\n\u001b[0;32m    412\u001b[0m \u001b[38;5;28;01melse\u001b[39;00m:\n\u001b[0;32m    413\u001b[0m     \u001b[38;5;28;01mreturn\u001b[39;00m _list_indexing(X, indices, indices_dtype)\n",
      "File \u001b[1;32mE:\\anaconda_py\\Lib\\site-packages\\sklearn\\utils\\__init__.py:208\u001b[0m, in \u001b[0;36m_array_indexing\u001b[1;34m(array, key, key_dtype, axis)\u001b[0m\n\u001b[0;32m    206\u001b[0m \u001b[38;5;28;01mif\u001b[39;00m \u001b[38;5;28misinstance\u001b[39m(key, \u001b[38;5;28mtuple\u001b[39m):\n\u001b[0;32m    207\u001b[0m     key \u001b[38;5;241m=\u001b[39m \u001b[38;5;28mlist\u001b[39m(key)\n\u001b[1;32m--> 208\u001b[0m \u001b[38;5;28;01mreturn\u001b[39;00m array[key, \u001b[38;5;241m.\u001b[39m\u001b[38;5;241m.\u001b[39m\u001b[38;5;241m.\u001b[39m] \u001b[38;5;28;01mif\u001b[39;00m axis \u001b[38;5;241m==\u001b[39m \u001b[38;5;241m0\u001b[39m \u001b[38;5;28;01melse\u001b[39;00m array[:, key]\n",
      "\u001b[1;31mIndexError\u001b[0m: index 35702 is out of bounds for axis 0 with size 29640"
     ]
    }
   ],
   "source": [
    "from imblearn.over_sampling import RandomOverSampler\n",
    "\n",
    "ros = RandomOverSampler(random_state=42)\n",
    "X_resampled, y_resampled = ros.fit_resample(X_train, y_train)"
   ]
  },
  {
   "cell_type": "code",
   "execution_count": 18,
   "id": "92cb86d5",
   "metadata": {},
   "outputs": [
    {
     "ename": "ValueError",
     "evalue": "Found input variables with inconsistent numbers of samples: [29640, 39520]",
     "output_type": "error",
     "traceback": [
      "\u001b[1;31m---------------------------------------------------------------------------\u001b[0m",
      "\u001b[1;31mValueError\u001b[0m                                Traceback (most recent call last)",
      "Cell \u001b[1;32mIn[18], line 3\u001b[0m\n\u001b[0;32m      1\u001b[0m \u001b[38;5;28;01mfrom\u001b[39;00m \u001b[38;5;21;01msklearn\u001b[39;00m\u001b[38;5;21;01m.\u001b[39;00m\u001b[38;5;21;01mutils\u001b[39;00m \u001b[38;5;28;01mimport\u001b[39;00m resample\n\u001b[1;32m----> 3\u001b[0m X_resampled, y_resampled \u001b[38;5;241m=\u001b[39m resample(X_train, y_train, n_samples\u001b[38;5;241m=\u001b[39m\u001b[38;5;241m31616\u001b[39m, replace\u001b[38;5;241m=\u001b[39m\u001b[38;5;28;01mTrue\u001b[39;00m)\n",
      "File \u001b[1;32mE:\\anaconda_py\\Lib\\site-packages\\sklearn\\utils\\_param_validation.py:213\u001b[0m, in \u001b[0;36mvalidate_params.<locals>.decorator.<locals>.wrapper\u001b[1;34m(*args, **kwargs)\u001b[0m\n\u001b[0;32m    207\u001b[0m \u001b[38;5;28;01mtry\u001b[39;00m:\n\u001b[0;32m    208\u001b[0m     \u001b[38;5;28;01mwith\u001b[39;00m config_context(\n\u001b[0;32m    209\u001b[0m         skip_parameter_validation\u001b[38;5;241m=\u001b[39m(\n\u001b[0;32m    210\u001b[0m             prefer_skip_nested_validation \u001b[38;5;129;01mor\u001b[39;00m global_skip_validation\n\u001b[0;32m    211\u001b[0m         )\n\u001b[0;32m    212\u001b[0m     ):\n\u001b[1;32m--> 213\u001b[0m         \u001b[38;5;28;01mreturn\u001b[39;00m func(\u001b[38;5;241m*\u001b[39margs, \u001b[38;5;241m*\u001b[39m\u001b[38;5;241m*\u001b[39mkwargs)\n\u001b[0;32m    214\u001b[0m \u001b[38;5;28;01mexcept\u001b[39;00m InvalidParameterError \u001b[38;5;28;01mas\u001b[39;00m e:\n\u001b[0;32m    215\u001b[0m     \u001b[38;5;66;03m# When the function is just a wrapper around an estimator, we allow\u001b[39;00m\n\u001b[0;32m    216\u001b[0m     \u001b[38;5;66;03m# the function to delegate validation to the estimator, but we replace\u001b[39;00m\n\u001b[0;32m    217\u001b[0m     \u001b[38;5;66;03m# the name of the estimator by the name of the function in the error\u001b[39;00m\n\u001b[0;32m    218\u001b[0m     \u001b[38;5;66;03m# message to avoid confusion.\u001b[39;00m\n\u001b[0;32m    219\u001b[0m     msg \u001b[38;5;241m=\u001b[39m re\u001b[38;5;241m.\u001b[39msub(\n\u001b[0;32m    220\u001b[0m         \u001b[38;5;124mr\u001b[39m\u001b[38;5;124m\"\u001b[39m\u001b[38;5;124mparameter of \u001b[39m\u001b[38;5;124m\\\u001b[39m\u001b[38;5;124mw+ must be\u001b[39m\u001b[38;5;124m\"\u001b[39m,\n\u001b[0;32m    221\u001b[0m         \u001b[38;5;124mf\u001b[39m\u001b[38;5;124m\"\u001b[39m\u001b[38;5;124mparameter of \u001b[39m\u001b[38;5;132;01m{\u001b[39;00mfunc\u001b[38;5;241m.\u001b[39m\u001b[38;5;18m__qualname__\u001b[39m\u001b[38;5;132;01m}\u001b[39;00m\u001b[38;5;124m must be\u001b[39m\u001b[38;5;124m\"\u001b[39m,\n\u001b[0;32m    222\u001b[0m         \u001b[38;5;28mstr\u001b[39m(e),\n\u001b[0;32m    223\u001b[0m     )\n",
      "File \u001b[1;32mE:\\anaconda_py\\Lib\\site-packages\\sklearn\\utils\\__init__.py:663\u001b[0m, in \u001b[0;36mresample\u001b[1;34m(replace, n_samples, random_state, stratify, *arrays)\u001b[0m\n\u001b[0;32m    657\u001b[0m \u001b[38;5;28;01melif\u001b[39;00m (max_n_samples \u001b[38;5;241m>\u001b[39m n_samples) \u001b[38;5;129;01mand\u001b[39;00m (\u001b[38;5;129;01mnot\u001b[39;00m replace):\n\u001b[0;32m    658\u001b[0m     \u001b[38;5;28;01mraise\u001b[39;00m \u001b[38;5;167;01mValueError\u001b[39;00m(\n\u001b[0;32m    659\u001b[0m         \u001b[38;5;124m\"\u001b[39m\u001b[38;5;124mCannot sample \u001b[39m\u001b[38;5;132;01m%d\u001b[39;00m\u001b[38;5;124m out of arrays with dim \u001b[39m\u001b[38;5;132;01m%d\u001b[39;00m\u001b[38;5;124m when replace is False\u001b[39m\u001b[38;5;124m\"\u001b[39m\n\u001b[0;32m    660\u001b[0m         \u001b[38;5;241m%\u001b[39m (max_n_samples, n_samples)\n\u001b[0;32m    661\u001b[0m     )\n\u001b[1;32m--> 663\u001b[0m check_consistent_length(\u001b[38;5;241m*\u001b[39marrays)\n\u001b[0;32m    665\u001b[0m \u001b[38;5;28;01mif\u001b[39;00m stratify \u001b[38;5;129;01mis\u001b[39;00m \u001b[38;5;28;01mNone\u001b[39;00m:\n\u001b[0;32m    666\u001b[0m     \u001b[38;5;28;01mif\u001b[39;00m replace:\n",
      "File \u001b[1;32mE:\\anaconda_py\\Lib\\site-packages\\sklearn\\utils\\validation.py:457\u001b[0m, in \u001b[0;36mcheck_consistent_length\u001b[1;34m(*arrays)\u001b[0m\n\u001b[0;32m    455\u001b[0m uniques \u001b[38;5;241m=\u001b[39m np\u001b[38;5;241m.\u001b[39munique(lengths)\n\u001b[0;32m    456\u001b[0m \u001b[38;5;28;01mif\u001b[39;00m \u001b[38;5;28mlen\u001b[39m(uniques) \u001b[38;5;241m>\u001b[39m \u001b[38;5;241m1\u001b[39m:\n\u001b[1;32m--> 457\u001b[0m     \u001b[38;5;28;01mraise\u001b[39;00m \u001b[38;5;167;01mValueError\u001b[39;00m(\n\u001b[0;32m    458\u001b[0m         \u001b[38;5;124m\"\u001b[39m\u001b[38;5;124mFound input variables with inconsistent numbers of samples: \u001b[39m\u001b[38;5;132;01m%r\u001b[39;00m\u001b[38;5;124m\"\u001b[39m\n\u001b[0;32m    459\u001b[0m         \u001b[38;5;241m%\u001b[39m [\u001b[38;5;28mint\u001b[39m(l) \u001b[38;5;28;01mfor\u001b[39;00m l \u001b[38;5;129;01min\u001b[39;00m lengths]\n\u001b[0;32m    460\u001b[0m     )\n",
      "\u001b[1;31mValueError\u001b[0m: Found input variables with inconsistent numbers of samples: [29640, 39520]"
     ]
    }
   ],
   "source": [
    "from sklearn.utils import resample\n",
    "\n",
    "X_resampled, y_resampled = resample(X_train, y_train, n_samples=31616, replace=True)"
   ]
  },
  {
   "cell_type": "code",
   "execution_count": null,
   "id": "70fd9001",
   "metadata": {},
   "outputs": [],
   "source": []
  }
 ],
 "metadata": {
  "kernelspec": {
   "display_name": "Python 3 (ipykernel)",
   "language": "python",
   "name": "python3"
  },
  "language_info": {
   "codemirror_mode": {
    "name": "ipython",
    "version": 3
   },
   "file_extension": ".py",
   "mimetype": "text/x-python",
   "name": "python",
   "nbconvert_exporter": "python",
   "pygments_lexer": "ipython3",
   "version": "3.11.5"
  }
 },
 "nbformat": 4,
 "nbformat_minor": 5
}
